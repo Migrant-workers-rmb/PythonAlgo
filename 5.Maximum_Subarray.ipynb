{
 "cells": [
  {
   "cell_type": "markdown",
   "metadata": {
    "collapsed": true,
    "pycharm": {
     "name": "#%% md\n"
    }
   },
   "source": [
    "Maximum Subarray:\n",
    "\n",
    "Given an integer array nums, find the contiguous subarray (containing at least one number) which has the largest sum and return its sum.\n",
    "* this array have positive and negative integers\n",
    "\n",
    "Input: [-2,1,-3,4,-1,2,-5,4],\n",
    "Output: 6\n",
    "Explanation: [4,-1,2,1] has the largest sum = 6."
   ]
  },
  {
   "cell_type": "code",
   "execution_count": 4,
   "outputs": [
    {
     "name": "stdout",
     "text": [
      "6\n"
     ],
     "output_type": "stream"
    }
   ],
   "source": [
    "def max_subarray(array_of_integers):\n",
    "    if len(array_of_integers) == 0 :\n",
    "        return print(\"Come on ! This is not an array!\")\n",
    "    \n",
    "    max_sum_of_subarray = current_sum_of_subarray = array_of_integers[0]\n",
    "    \n",
    "    for num in array_of_integers[1:]:\n",
    "        current_sum_of_subarray = max(current_sum_of_subarray + num , num)\n",
    "        max_sum_of_subarray = max(current_sum_of_subarray,max_sum_of_subarray)\n",
    "    print(max_sum_of_subarray)\n",
    "max_subarray([-2,1,-3,4,-1,2,1,-5,4])"
   ],
   "metadata": {
    "collapsed": false,
    "pycharm": {
     "name": "#%%\n",
     "is_executing": false
    }
   }
  },
  {
   "cell_type": "code",
   "execution_count": null,
   "outputs": [],
   "source": [
    "\n"
   ],
   "metadata": {
    "collapsed": false,
    "pycharm": {
     "name": "#%%\n"
    }
   }
  }
 ],
 "metadata": {
  "kernelspec": {
   "display_name": "Python 3",
   "language": "python",
   "name": "python3"
  },
  "language_info": {
   "codemirror_mode": {
    "name": "ipython",
    "version": 2
   },
   "file_extension": ".py",
   "mimetype": "text/x-python",
   "name": "python",
   "nbconvert_exporter": "python",
   "pygments_lexer": "ipython2",
   "version": "2.7.6"
  },
  "pycharm": {
   "stem_cell": {
    "cell_type": "raw",
    "source": [],
    "metadata": {
     "collapsed": false
    }
   }
  }
 },
 "nbformat": 4,
 "nbformat_minor": 0
}