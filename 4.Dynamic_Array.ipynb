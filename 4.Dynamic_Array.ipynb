{
 "cells": [
  {
   "cell_type": "markdown",
   "metadata": {
    "collapsed": true,
    "pycharm": {
     "name": "#%% md\n"
    }
   },
   "source": [
    "Leetcode\n",
    "242. Valid Anagram\n",
    "Given two strings s and t , write a function to determine if t is an anagram of s.\n",
    "\n"
   ]
  },
  {
   "cell_type": "code",
   "execution_count": 9,
   "metadata": {
    "pycharm": {
     "is_executing": false,
     "name": "#%%\n"
    }
   },
   "outputs": [
    {
     "name": "stdout",
     "output_type": "stream",
     "text": [
      "['d', 'g', 'o']\n",
      "['d', 'd', 'g', 'o']\n"
     ]
    },
    {
     "data": {
      "text/plain": [
       "False"
      ]
     },
     "execution_count": 9,
     "metadata": {},
     "output_type": "execute_result"
    }
   ],
   "source": [
    "def is_anagram_or_not_by_using_python_module(s,t):\n",
    "    # 输入参数的预处理\n",
    "    s = s.replace(' ','').lower()\n",
    "    t = t.replace(' ','').lower()\n",
    "    print(sorted(s))\n",
    "    print(sorted(t))\n",
    "    # 然后进行比较，是否相等\n",
    "    return sorted(s) == sorted(t)\n",
    "\n",
    "is_anagram_or_not_by_using_python_module(\" Dog\",\"godd\")   \n",
    "    \n"
   ]
  },
  {
   "cell_type": "markdown",
   "metadata": {
    "pycharm": {
     "name": "#%% md\n"
    }
   },
   "source": [
    "这种直接调用Python模块的方法，不推荐（类似\"伪代码\"），所以我们可以利用通用的数据类型进行算法的编写：\n",
    "\n"
   ]
  },
  {
   "cell_type": "code",
   "execution_count": 10,
   "metadata": {
    "pycharm": {
     "is_executing": false,
     "name": "#%%\n"
    }
   },
   "outputs": [
    {
     "data": {
      "text/plain": [
       "True"
      ]
     },
     "execution_count": 10,
     "metadata": {},
     "output_type": "execute_result"
    }
   ],
   "source": [
    "def is_anagram_or_not_by_using_algorithm(s,t):\n",
    "    s = s.replace(' ','').lower()\n",
    "    t = t.replace(' ','').lower()\n",
    "    \n",
    "    #如果长度不一致，直接排除\n",
    "    if len(s) != len(t):\n",
    "        return False\n",
    "    \n",
    "    count_dic ={}\n",
    "    \n",
    "    for every_letter in s:\n",
    "        if every_letter in count_dic:\n",
    "            count_dic[every_letter] +=1\n",
    "        else:\n",
    "            count_dic[every_letter] =1\n",
    "            \n",
    "    for every_letter in t:\n",
    "        if every_letter in count_dic:\n",
    "            count_dic[every_letter] -=1\n",
    "        else:\n",
    "            count_dic[every_letter] =1\n",
    "            \n",
    "    for n in count_dic:\n",
    "        if count_dic[n] != 0:\n",
    "            return False\n",
    "    return True\n",
    "\n",
    "is_anagram_or_not_by_using_algorithm('dog','god') "
   ]
  },
  {
   "cell_type": "code",
   "execution_count": 11,
   "metadata": {
    "pycharm": {
     "is_executing": false,
     "name": "#%%\n"
    }
   },
   "outputs": [
    {
     "data": {
      "text/plain": [
       "False"
      ]
     },
     "execution_count": 11,
     "metadata": {},
     "output_type": "execute_result"
    }
   ],
   "source": [
    "is_anagram_or_not_by_using_algorithm('dogg','god')\n",
    "\n"
   ]
  },
  {
   "cell_type": "code",
   "execution_count": 12,
   "metadata": {
    "pycharm": {
     "is_executing": false,
     "name": "#%%\n"
    }
   },
   "outputs": [
    {
     "data": {
      "text/plain": [
       "False"
      ]
     },
     "execution_count": 12,
     "metadata": {},
     "output_type": "execute_result"
    }
   ],
   "source": [
    "is_anagram_or_not_by_using_algorithm('dob','god')\n",
    "\n"
   ]
  },
  {
   "cell_type": "markdown",
   "source": [
    "leetcode练习（Two sum）\n",
    "\n",
    "Given nums = [2, 7, 11, 15], target = 9\n",
    "写一个算法，选出符合相加最终结果为target的pair\n",
    "\n"
   ],
   "metadata": {
    "collapsed": false
   }
  },
  {
   "cell_type": "code",
   "execution_count": null,
   "outputs": [],
   "source": [
    "def calculate_the_pair_of_the_target(array_list,T):\n",
    "    if len(array_list) < 2:\n",
    "        return print(\"No way, the array is too short, It even can't be called array!\")\n",
    "    \n",
    "    counted = set()\n",
    "    output_set = set()\n",
    "    \n",
    "    for num in array_list:\n",
    "        the_num_you_want_to_find = T - num\n",
    "        \n",
    "        if the_num_you_want_to_find not in counted:\n",
    "            counted.add(num)\n",
    "            \n",
    "        else:\n",
    "            output_set.add((min(num,the_num_you_want_to_find),max(num,the_num_you_want_to_find)))\n",
    "\n",
    "    print('\\n'.join(map(str,list(output_set))))            \n",
    "\n",
    "\n",
    "calculate_the_pair_of_the_target([2, 7, 3,6,11, 15],9)\n",
    "    "
   ],
   "metadata": {
    "collapsed": false,
    "pycharm": {
     "name": "#%%\n"
    }
   }
  },
  {
   "cell_type": "markdown",
   "metadata": {
    "pycharm": {
     "name": "#%% md\n"
    }
   },
   "source": [
    "\n"
   ]
  },
  {
   "cell_type": "code",
   "execution_count": 5,
   "metadata": {
    "pycharm": {
     "is_executing": false,
     "name": "#%%\n"
    }
   },
   "outputs": [
    {
     "name": "stdout",
     "output_type": "stream",
     "text": [
      "No way, the array is too short, It even can't be called array!\n"
     ]
    }
   ],
   "source": [
    "def calculate_the_pair_of_the_target(array_list,T):\n",
    "    if len(array_list) < 2:\n",
    "        return print(\"No way, the array is too short, It even can't be called array!\")\n",
    "    \n",
    "    counted = set()\n",
    "    output_set = set()\n",
    "    \n",
    "    for num in array_list:\n",
    "        the_num_you_want_to_find = T - num\n",
    "        \n",
    "        if the_num_you_want_to_find not in counted:\n",
    "            counted.add(num)\n",
    "            \n",
    "        else:\n",
    "            output_set.add((min(num,the_num_you_want_to_find),max(num,the_num_you_want_to_find)))\n",
    "\n",
    "    print('\\n'.join(map(str,list(output_set))))            \n",
    "\n",
    "\n",
    "calculate_the_pair_of_the_target([2, 7, 3,6,11, 15],9)\n",
    "    "
   ]
  },
  {
   "cell_type": "code",
   "execution_count": null,
   "metadata": {
    "pycharm": {
     "name": "#%%\n"
    }
   },
   "outputs": [],
   "source": [
    "\n"
   ]
  }
 ],
 "metadata": {
  "kernelspec": {
   "display_name": "Python 3",
   "language": "python",
   "name": "python3"
  },
  "language_info": {
   "codemirror_mode": {
    "name": "ipython",
    "version": 3
   },
   "file_extension": ".py",
   "mimetype": "text/x-python",
   "name": "python",
   "nbconvert_exporter": "python",
   "pygments_lexer": "ipython3",
   "version": "3.7.0"
  },
  "pycharm": {
   "stem_cell": {
    "cell_type": "raw",
    "source": [],
    "metadata": {
     "collapsed": false
    }
   }
  }
 },
 "nbformat": 4,
 "nbformat_minor": 1
}