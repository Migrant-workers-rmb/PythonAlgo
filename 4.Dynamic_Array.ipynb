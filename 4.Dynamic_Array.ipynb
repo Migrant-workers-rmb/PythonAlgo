{
 "cells": [
  {
   "cell_type": "markdown",
   "metadata": {
    "collapsed": true,
    "pycharm": {
     "name": "#%% md\n"
    }
   },
   "source": [
    "Leetcode\n",
    "242. Valid Anagram\n",
    "Given two strings s and t , write a function to determine if t is an anagram of s.\n",
    "\n"
   ]
  },
  {
   "cell_type": "code",
   "execution_count": 9,
   "outputs": [
    {
     "name": "stdout",
     "text": [
      "['d', 'g', 'o']\n",
      "['d', 'd', 'g', 'o']\n"
     ],
     "output_type": "stream"
    },
    {
     "data": {
      "text/plain": "False"
     },
     "metadata": {},
     "output_type": "execute_result",
     "execution_count": 9
    }
   ],
   "source": [
    "def is_anagram_or_not_by_using_python_module(s,t):\n",
    "    # 输入参数的预处理\n",
    "    s = s.replace(' ','').lower()\n",
    "    t = t.replace(' ','').lower()\n",
    "    print(sorted(s))\n",
    "    print(sorted(t))\n",
    "    # 然后进行比较，是否相等\n",
    "    return sorted(s) == sorted(t)\n",
    "\n",
    "is_anagram_or_not_by_using_python_module(\" Dog\",\"godd\")   \n",
    "    \n"
   ],
   "metadata": {
    "collapsed": false,
    "pycharm": {
     "name": "#%%\n",
     "is_executing": false
    }
   }
  },
  {
   "cell_type": "markdown",
   "source": [
    "这种直接调用Python模块的方法，不推荐（类似\"伪代码\"），所以我们可以利用通用的数据类型进行算法的编写：\n",
    "\n"
   ],
   "metadata": {
    "collapsed": false,
    "pycharm": {
     "name": "#%% md\n"
    }
   }
  },
  {
   "cell_type": "code",
   "execution_count": 10,
   "outputs": [
    {
     "data": {
      "text/plain": "True"
     },
     "metadata": {},
     "output_type": "execute_result",
     "execution_count": 10
    }
   ],
   "source": [
    "def is_anagram_or_not_by_using_algorithm(s,t):\n",
    "    s = s.replace(' ','').lower()\n",
    "    t = t.replace(' ','').lower()\n",
    "    \n",
    "    #如果长度不一致，直接排除\n",
    "    if len(s) != len(t):\n",
    "        return False\n",
    "    \n",
    "    count_dic ={}\n",
    "    \n",
    "    for every_letter in s:\n",
    "        if every_letter in count_dic:\n",
    "            count_dic[every_letter] +=1\n",
    "        else:\n",
    "            count_dic[every_letter] =1\n",
    "            \n",
    "    for every_letter in t:\n",
    "        if every_letter in count_dic:\n",
    "            count_dic[every_letter] -=1\n",
    "        else:\n",
    "            count_dic[every_letter] =1\n",
    "            \n",
    "    for n in count_dic:\n",
    "        if count_dic[n] != 0:\n",
    "            return False\n",
    "    return True\n",
    "\n",
    "is_anagram_or_not_by_using_algorithm('dog','god') "
   ],
   "metadata": {
    "collapsed": false,
    "pycharm": {
     "name": "#%%\n",
     "is_executing": false
    }
   }
  },
  {
   "cell_type": "code",
   "execution_count": 11,
   "outputs": [
    {
     "data": {
      "text/plain": "False"
     },
     "metadata": {},
     "output_type": "execute_result",
     "execution_count": 11
    }
   ],
   "source": [
    "is_anagram_or_not_by_using_algorithm('dogg','god')\n",
    "\n"
   ],
   "metadata": {
    "collapsed": false,
    "pycharm": {
     "name": "#%%\n",
     "is_executing": false
    }
   }
  },
  {
   "cell_type": "code",
   "execution_count": 12,
   "outputs": [
    {
     "data": {
      "text/plain": "False"
     },
     "metadata": {},
     "output_type": "execute_result",
     "execution_count": 12
    }
   ],
   "source": [
    "is_anagram_or_not_by_using_algorithm('dob','god')\n",
    "\n"
   ],
   "metadata": {
    "collapsed": false,
    "pycharm": {
     "name": "#%%\n",
     "is_executing": false
    }
   }
  },
  {
   "cell_type": "code",
   "execution_count": null,
   "outputs": [],
   "source": [
    "\n"
   ],
   "metadata": {
    "collapsed": false,
    "pycharm": {
     "name": "#%%\n"
    }
   }
  }
 ],
 "metadata": {
  "kernelspec": {
   "display_name": "Python 3",
   "language": "python",
   "name": "python3"
  },
  "language_info": {
   "codemirror_mode": {
    "name": "ipython",
    "version": 2
   },
   "file_extension": ".py",
   "mimetype": "text/x-python",
   "name": "python",
   "nbconvert_exporter": "python",
   "pygments_lexer": "ipython2",
   "version": "2.7.6"
  },
  "pycharm": {
   "stem_cell": {
    "cell_type": "raw",
    "source": [],
    "metadata": {
     "collapsed": false
    }
   }
  }
 },
 "nbformat": 4,
 "nbformat_minor": 0
}