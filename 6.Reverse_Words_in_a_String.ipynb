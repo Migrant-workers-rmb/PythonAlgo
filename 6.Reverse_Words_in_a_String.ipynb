{
 "cells": [
  {
   "cell_type": "markdown",
   "source": [
    "Created by william from lexueoude.com. 更多正版技术视频讲解，公众号：乐学FinTech"
   ],
   "metadata": {
    "collapsed": false
   }
  },
  {
   "cell_type": "markdown",
   "metadata": {
    "collapsed": true,
    "pycharm": {
     "name": "#%% md\n"
    }
   },
   "source": [
    "Reverse Words in a String:\n",
    "\n",
    "Given an input string, reverse the string word by word.\n",
    "\n",
    " \n",
    "\n",
    "Example 1:\n",
    "\n",
    "Input: \"the sky is blue\"<br>\n",
    "Output: \"blue is sky the\"\n",
    "\n",
    "tips: 考虑转换数据类型（因为string格式的数据我们手中的工具并不太多）\n"
   ]
  },
  {
   "cell_type": "code",
   "execution_count": 9,
   "metadata": {
    "pycharm": {
     "is_executing": false,
     "name": "#%%\n"
    }
   },
   "outputs": [
    {
     "data": {
      "text/plain": [
       "'William is name My'"
      ]
     },
     "execution_count": 9,
     "metadata": {},
     "output_type": "execute_result"
    }
   ],
   "source": [
    "def reverse_words_in_a_string(s):\n",
    "    split_list=s.split()\n",
    "    reversed_list_iter=reversed(split_list)\n",
    "    return \" \".join(reversed_list_iter)\n",
    "\n",
    "reverse_words_in_a_string(\"My name is William\")"
   ]
  },
  {
   "cell_type": "code",
   "execution_count": 12,
   "metadata": {
    "pycharm": {
     "is_executing": false,
     "name": "#%%\n"
    }
   },
   "outputs": [
    {
     "data": {
      "text/plain": [
       "'V2 William is name My'"
      ]
     },
     "execution_count": 12,
     "metadata": {},
     "output_type": "execute_result"
    }
   ],
   "source": [
    "\n",
    "def reverse_words_in_a_string_V2(s):\n",
    "    return \" \".join(reversed(s.split()))\n",
    "\n",
    "reverse_words_in_a_string_V2(\"My name is William V2\")\n"
   ]
  },
  {
   "cell_type": "code",
   "execution_count": 13,
   "metadata": {
    "pycharm": {
     "is_executing": false,
     "name": "#%%\n"
    }
   },
   "outputs": [
    {
     "data": {
      "text/plain": [
       "'V3 William is name My'"
      ]
     },
     "execution_count": 13,
     "metadata": {},
     "output_type": "execute_result"
    }
   ],
   "source": [
    "\n",
    "def reverse_words_in_a_string_V3(s):\n",
    "    return \" \".join(s.split()[::-1])\n",
    "\n",
    "reverse_words_in_a_string_V2(\"My name is William V3\")\n"
   ]
  },
  {
   "cell_type": "code",
   "execution_count": 21,
   "metadata": {
    "pycharm": {
     "is_executing": false,
     "name": "#%%\n"
    }
   },
   "outputs": [
    {
     "name": "stdout",
     "text": [
      "4V mailliW si eman yM\n"
     ],
     "output_type": "stream"
    }
   ],
   "source": [
    "\n",
    "def reverse_words_in_a_string_V4_without_built_in(s):\n",
    "    length = len(s)\n",
    "    spaces = [' ']\n",
    "    words_list = []\n",
    "    \n",
    "    i = 0\n",
    "    \n",
    "    while i < length:\n",
    "        if s[i] not in spaces:\n",
    "            start_word = i\n",
    "            \n",
    "            while i <length and s[i] not in spaces:\n",
    "                i+= 1 \n",
    "            \n",
    "            words_list.append(s[start_word:i])\n",
    "        \n",
    "        i+=1\n",
    "    return \"\".join(reversed(s))\n",
    "    \n",
    "\n",
    "print(reverse_words_in_a_string_V4_without_built_in(\"My name is William V4\"))"
   ]
  },
  {
   "cell_type": "code",
   "execution_count": 20,
   "metadata": {
    "pycharm": {
     "is_executing": false,
     "name": "#%%\n"
    }
   },
   "outputs": [
    {
     "name": "stdout",
     "output_type": "stream",
     "text": [
      "1\n"
     ]
    }
   ],
   "source": []
  },
  {
   "cell_type": "code",
   "execution_count": null,
   "metadata": {
    "pycharm": {
     "name": "#%%\n"
    }
   },
   "outputs": [],
   "source": [
    "\n",
    "\n"
   ]
  }
 ],
 "metadata": {
  "kernelspec": {
   "display_name": "Python 3",
   "language": "python",
   "name": "python3"
  },
  "language_info": {
   "codemirror_mode": {
    "name": "ipython",
    "version": 3
   },
   "file_extension": ".py",
   "mimetype": "text/x-python",
   "name": "python",
   "nbconvert_exporter": "python",
   "pygments_lexer": "ipython3",
   "version": "3.7.0"
  }
 },
 "nbformat": 4,
 "nbformat_minor": 1
}